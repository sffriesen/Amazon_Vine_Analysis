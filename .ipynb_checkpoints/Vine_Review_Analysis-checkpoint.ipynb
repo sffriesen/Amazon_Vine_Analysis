{
 "cells": [
  {
   "cell_type": "code",
   "execution_count": null,
   "id": "5672321b",
   "metadata": {},
   "outputs": [],
   "source": [
    "# Add dependencies\n",
    "import pandas as pd"
   ]
  },
  {
   "cell_type": "code",
   "execution_count": null,
   "id": "35c5b050",
   "metadata": {},
   "outputs": [],
   "source": [
    "# Read in csv file\n",
    "vine_df = pd.read_csv(\"vine_df\")\n",
    "vine_df.head()"
   ]
  },
  {
   "cell_type": "code",
   "execution_count": null,
   "id": "169c5e11",
   "metadata": {},
   "outputs": [],
   "source": [
    "# Create a new df to retrieve all the rows where the total_votes count is greater than or equal to 20\n",
    "# new_df = \n",
    "vine_df[\"total_votes\" >= 20]"
   ]
  },
  {
   "cell_type": "code",
   "execution_count": null,
   "id": "2fe7e43f",
   "metadata": {},
   "outputs": [],
   "source": [
    "# Filter the new df and create a new one to retrieve all rows where \n",
    "# the number of helpful_votes divided by total_votes is equal to or greater than 50%\n",
    "# ((new_df[\"helpful_votes\"]/new_df[total_votes]) >= .5)"
   ]
  },
  {
   "cell_type": "code",
   "execution_count": null,
   "id": "74a30f69",
   "metadata": {},
   "outputs": [],
   "source": [
    "# Filter the df and create a new one that retrieves all rows where \n",
    "# a review was written as part of the Vine program (unpaid), vine == \"Y\"\n"
   ]
  },
  {
   "cell_type": "code",
   "execution_count": null,
   "id": "5c44212c",
   "metadata": {},
   "outputs": [],
   "source": [
    "# Filter the df and create a new one that retrieves all rows where \n",
    "# a review was not written as part of the Vine program (unpaid), vine == \"N\""
   ]
  },
  {
   "cell_type": "code",
   "execution_count": null,
   "id": "f91cf0d3",
   "metadata": {},
   "outputs": [],
   "source": [
    "# Determine the total number of reviews"
   ]
  },
  {
   "cell_type": "code",
   "execution_count": null,
   "id": "faa42b69",
   "metadata": {},
   "outputs": [],
   "source": [
    "# Determine the number of 5-star reviews"
   ]
  },
  {
   "cell_type": "code",
   "execution_count": null,
   "id": "5679c1fa",
   "metadata": {},
   "outputs": [],
   "source": [
    "# Determine the percentage of 5-star reviews for the two types of review (paid vs unpaid)"
   ]
  }
 ],
 "metadata": {
  "kernelspec": {
   "display_name": "PythonData",
   "language": "python",
   "name": "pythondata"
  },
  "language_info": {
   "codemirror_mode": {
    "name": "ipython",
    "version": 3
   },
   "file_extension": ".py",
   "mimetype": "text/x-python",
   "name": "python",
   "nbconvert_exporter": "python",
   "pygments_lexer": "ipython3",
   "version": "3.7.10"
  }
 },
 "nbformat": 4,
 "nbformat_minor": 5
}

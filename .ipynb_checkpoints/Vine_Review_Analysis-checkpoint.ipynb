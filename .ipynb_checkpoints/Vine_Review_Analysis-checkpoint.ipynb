{
 "cells": [
  {
   "cell_type": "code",
   "execution_count": 2,
   "id": "5672321b",
   "metadata": {},
   "outputs": [],
   "source": [
    "# Add dependencies\n",
    "import pandas as pd"
   ]
  },
  {
   "cell_type": "code",
   "execution_count": 4,
   "id": "35c5b050",
   "metadata": {},
   "outputs": [
    {
     "data": {
      "text/html": [
       "<div>\n",
       "<style scoped>\n",
       "    .dataframe tbody tr th:only-of-type {\n",
       "        vertical-align: middle;\n",
       "    }\n",
       "\n",
       "    .dataframe tbody tr th {\n",
       "        vertical-align: top;\n",
       "    }\n",
       "\n",
       "    .dataframe thead th {\n",
       "        text-align: right;\n",
       "    }\n",
       "</style>\n",
       "<table border=\"1\" class=\"dataframe\">\n",
       "  <thead>\n",
       "    <tr style=\"text-align: right;\">\n",
       "      <th></th>\n",
       "      <th>review_id</th>\n",
       "      <th>star_rating</th>\n",
       "      <th>helpful_votes</th>\n",
       "      <th>total_votes</th>\n",
       "      <th>vine</th>\n",
       "      <th>verified_purchase</th>\n",
       "    </tr>\n",
       "  </thead>\n",
       "  <tbody>\n",
       "    <tr>\n",
       "      <th>0</th>\n",
       "      <td>RQ58W7SMO911M</td>\n",
       "      <td>4.0</td>\n",
       "      <td>2.0</td>\n",
       "      <td>3.0</td>\n",
       "      <td>N</td>\n",
       "      <td>N</td>\n",
       "    </tr>\n",
       "    <tr>\n",
       "      <th>1</th>\n",
       "      <td>RF6IUKMGL8SF</td>\n",
       "      <td>3.0</td>\n",
       "      <td>5.0</td>\n",
       "      <td>5.0</td>\n",
       "      <td>N</td>\n",
       "      <td>N</td>\n",
       "    </tr>\n",
       "    <tr>\n",
       "      <th>2</th>\n",
       "      <td>R1DOSHH6AI622S</td>\n",
       "      <td>4.0</td>\n",
       "      <td>1.0</td>\n",
       "      <td>22.0</td>\n",
       "      <td>N</td>\n",
       "      <td>N</td>\n",
       "    </tr>\n",
       "    <tr>\n",
       "      <th>3</th>\n",
       "      <td>RATOTLA3OF70O</td>\n",
       "      <td>5.0</td>\n",
       "      <td>2.0</td>\n",
       "      <td>2.0</td>\n",
       "      <td>N</td>\n",
       "      <td>N</td>\n",
       "    </tr>\n",
       "    <tr>\n",
       "      <th>4</th>\n",
       "      <td>R1TNWRKIVHVYOV</td>\n",
       "      <td>4.0</td>\n",
       "      <td>0.0</td>\n",
       "      <td>2.0</td>\n",
       "      <td>N</td>\n",
       "      <td>N</td>\n",
       "    </tr>\n",
       "  </tbody>\n",
       "</table>\n",
       "</div>"
      ],
      "text/plain": [
       "        review_id  star_rating  helpful_votes  total_votes vine  \\\n",
       "0   RQ58W7SMO911M          4.0            2.0          3.0    N   \n",
       "1    RF6IUKMGL8SF          3.0            5.0          5.0    N   \n",
       "2  R1DOSHH6AI622S          4.0            1.0         22.0    N   \n",
       "3   RATOTLA3OF70O          5.0            2.0          2.0    N   \n",
       "4  R1TNWRKIVHVYOV          4.0            0.0          2.0    N   \n",
       "\n",
       "  verified_purchase  \n",
       "0                 N  \n",
       "1                 N  \n",
       "2                 N  \n",
       "3                 N  \n",
       "4                 N  "
      ]
     },
     "execution_count": 4,
     "metadata": {},
     "output_type": "execute_result"
    }
   ],
   "source": [
    "# Read in csv file\n",
    "vine_df = pd.read_csv(\"Resources/vine_table.csv\")\n",
    "vine_df.head()"
   ]
  },
  {
   "cell_type": "code",
   "execution_count": null,
   "id": "169c5e11",
   "metadata": {},
   "outputs": [],
   "source": [
    "# Create a new df to retrieve all the rows where the total_votes count is greater than or equal to 20\n",
    "# new_df = \n",
    "vine_df[\"total_votes\" >= 20]"
   ]
  },
  {
   "cell_type": "code",
   "execution_count": null,
   "id": "2fe7e43f",
   "metadata": {},
   "outputs": [],
   "source": [
    "# Filter the new df and create a new one to retrieve all rows where \n",
    "# the number of helpful_votes divided by total_votes is equal to or greater than 50%\n",
    "# ((new_df[\"helpful_votes\"]/new_df[total_votes]) >= .5)"
   ]
  },
  {
   "cell_type": "code",
   "execution_count": null,
   "id": "74a30f69",
   "metadata": {},
   "outputs": [],
   "source": [
    "# Filter the df and create a new one that retrieves all rows where \n",
    "# a review was written as part of the Vine program (unpaid), vine == \"Y\"\n"
   ]
  },
  {
   "cell_type": "code",
   "execution_count": null,
   "id": "5c44212c",
   "metadata": {},
   "outputs": [],
   "source": [
    "# Filter the df and create a new one that retrieves all rows where \n",
    "# a review was not written as part of the Vine program (unpaid), vine == \"N\""
   ]
  },
  {
   "cell_type": "code",
   "execution_count": null,
   "id": "f91cf0d3",
   "metadata": {},
   "outputs": [],
   "source": [
    "# Determine the total number of reviews"
   ]
  },
  {
   "cell_type": "code",
   "execution_count": null,
   "id": "faa42b69",
   "metadata": {},
   "outputs": [],
   "source": [
    "# Determine the number of 5-star reviews"
   ]
  },
  {
   "cell_type": "code",
   "execution_count": null,
   "id": "5679c1fa",
   "metadata": {},
   "outputs": [],
   "source": [
    "# Determine the percentage of 5-star reviews for the two types of review (paid vs unpaid)"
   ]
  }
 ],
 "metadata": {
  "kernelspec": {
   "display_name": "PythonData",
   "language": "python",
   "name": "pythondata"
  },
  "language_info": {
   "codemirror_mode": {
    "name": "ipython",
    "version": 3
   },
   "file_extension": ".py",
   "mimetype": "text/x-python",
   "name": "python",
   "nbconvert_exporter": "python",
   "pygments_lexer": "ipython3",
   "version": "3.7.10"
  }
 },
 "nbformat": 4,
 "nbformat_minor": 5
}
